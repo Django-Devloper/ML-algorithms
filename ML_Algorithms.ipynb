{
  "nbformat": 4,
  "nbformat_minor": 0,
  "metadata": {
    "colab": {
      "provenance": [],
      "authorship_tag": "ABX9TyM0F58tatWuhCynSVqFRhyT",
      "include_colab_link": true
    },
    "kernelspec": {
      "name": "python3",
      "display_name": "Python 3"
    },
    "language_info": {
      "name": "python"
    }
  },
  "cells": [
    {
      "cell_type": "markdown",
      "metadata": {
        "id": "view-in-github",
        "colab_type": "text"
      },
      "source": [
        "<a href=\"https://colab.research.google.com/github/Django-Devloper/ML-algorithms/blob/main/ML_Algorithms.ipynb\" target=\"_parent\"><img src=\"https://colab.research.google.com/assets/colab-badge.svg\" alt=\"Open In Colab\"/></a>"
      ]
    },
    {
      "cell_type": "markdown",
      "source": [
        "# **Machine Learning Algorithms**\n",
        "\n",
        "Here are some foundational ML algorithms:\n",
        "\n",
        "Supervised Learning Algorithms\n",
        "1️⃣ Linear Regression (For Predicting Continuous Values)\n",
        "\n",
        "Example: Predicting house prices based on size\n",
        "Formula:\n",
        "𝑦\n",
        "=\n",
        "𝑚\n",
        "𝑥\n",
        "+\n",
        "𝑐\n",
        "y=mx+c\n",
        "2️⃣ Logistic Regression (For Classification Problems)\n",
        "\n",
        "Example: Predict if a customer will buy a product (Yes/No)\n",
        "Uses Sigmoid function to map values between 0 and 1.\n",
        "3️⃣ Decision Trees (Tree-based Classification & Regression)\n",
        "\n",
        "Example: Loan approval system\n",
        "Splits data based on features using rules.\n",
        "4️⃣ Random Forest (Multiple Decision Trees for Better Accuracy)\n",
        "\n",
        "Example: Detecting fraudulent transactions\n",
        "Reduces overfitting and improves predictions.\n",
        "5️⃣ Support Vector Machine (SVM)\n",
        "\n",
        "Example: Face recognition systems\n",
        "Finds the best hyperplane to separate classes.\n",
        "6️⃣ K-Nearest Neighbors (KNN)\n",
        "\n",
        "Example: Recommending similar movies\n",
        "Looks at nearby data points to make a decision.\n",
        "Unsupervised Learning Algorithms\n",
        "7️⃣ K-Means Clustering (Grouping Similar Data)\n",
        "\n",
        "Example: Grouping customers based on spending habits.\n",
        "8️⃣ Principal Component Analysis (PCA) (Dimensionality Reduction)\n",
        "\n",
        "Example: Compressing high-dimensional data like images.\n",
        "Reinforcement Learning Algorithm\n",
        "9️⃣ Q-Learning\n",
        "\n",
        "Example: Self-driving cars learning to drive.\n",
        "Learns actions based on rewards and penalties.\n",
        "\n"
      ],
      "metadata": {
        "id": "cH5GAJ-ckQf7"
      }
    },
    {
      "cell_type": "markdown",
      "source": [
        "**Understanding Linear Regression**\n",
        "\n",
        "Linear Regression is used for predicting continuous values. It finds the relationship between independent variable(s) (X) and a dependent variable (Y).\n",
        "\n",
        "📌 Example Use Cases:\n",
        "\n",
        "Predicting house prices based on size\n",
        "Estimating sales revenue based on ad spend\n",
        "Forecasting temperature changes"
      ],
      "metadata": {
        "id": "15TEk8hfkl5D"
      }
    },
    {
      "cell_type": "markdown",
      "source": [
        "**Mathematical Formula**\n",
        "The equation of a straight line:\n",
        "\n",
        "𝑌\n",
        "=\n",
        "𝑚\n",
        "𝑋\n",
        "+\n",
        "𝑐\n",
        "Y=mX+c\n",
        "Where:\n",
        "\n",
        "Y → Predicted value (e.g., house price)\n",
        "X → Input feature (e.g., house size)\n",
        "m → Slope of the line (how much Y changes per unit of X)\n",
        "c → Intercept (where the line crosses the Y-axis)\n",
        "For multiple variables, it becomes:\n",
        "\n",
        "𝑌\n",
        "=\n",
        "𝑤\n",
        "1\n",
        "𝑋\n",
        "1\n",
        "+\n",
        "𝑤\n",
        "2\n",
        "𝑋\n",
        "2\n",
        "+\n",
        ".\n",
        ".\n",
        ".\n",
        "+\n",
        "𝑤\n",
        "𝑛\n",
        "𝑋\n",
        "𝑛\n",
        "+\n",
        "𝑐\n",
        "Y=w\n",
        "1\n",
        "​\n",
        " X\n",
        "1\n",
        "​\n",
        " +w\n",
        "2\n",
        "​\n",
        " X\n",
        "2\n",
        "​\n",
        " +...+w\n",
        "n\n",
        "​\n",
        " X\n",
        "n\n",
        "​\n",
        " +c\n",
        "where\n",
        "𝑤\n",
        "1\n",
        ",\n",
        "𝑤\n",
        "2\n",
        ",\n",
        ".\n",
        ".\n",
        ".\n",
        "w\n",
        "1\n",
        "​\n",
        " ,w\n",
        "2\n",
        "​\n",
        " ,... are the weights (slopes) for each feature."
      ],
      "metadata": {
        "id": "mXhkfndRk6Mp"
      }
    },
    {
      "cell_type": "code",
      "source": [
        "!pip install scikit-learn matplotlib numpy\n"
      ],
      "metadata": {
        "colab": {
          "base_uri": "https://localhost:8080/"
        },
        "collapsed": true,
        "id": "ivN9SHRvkh7f",
        "outputId": "79c617b4-2151-46f8-e014-fb104041ee1b"
      },
      "execution_count": 1,
      "outputs": [
        {
          "output_type": "stream",
          "name": "stdout",
          "text": [
            "Requirement already satisfied: scikit-learn in /usr/local/lib/python3.11/dist-packages (1.6.1)\n",
            "Requirement already satisfied: matplotlib in /usr/local/lib/python3.11/dist-packages (3.10.0)\n",
            "Requirement already satisfied: numpy in /usr/local/lib/python3.11/dist-packages (1.26.4)\n",
            "Requirement already satisfied: scipy>=1.6.0 in /usr/local/lib/python3.11/dist-packages (from scikit-learn) (1.13.1)\n",
            "Requirement already satisfied: joblib>=1.2.0 in /usr/local/lib/python3.11/dist-packages (from scikit-learn) (1.4.2)\n",
            "Requirement already satisfied: threadpoolctl>=3.1.0 in /usr/local/lib/python3.11/dist-packages (from scikit-learn) (3.5.0)\n",
            "Requirement already satisfied: contourpy>=1.0.1 in /usr/local/lib/python3.11/dist-packages (from matplotlib) (1.3.1)\n",
            "Requirement already satisfied: cycler>=0.10 in /usr/local/lib/python3.11/dist-packages (from matplotlib) (0.12.1)\n",
            "Requirement already satisfied: fonttools>=4.22.0 in /usr/local/lib/python3.11/dist-packages (from matplotlib) (4.55.6)\n",
            "Requirement already satisfied: kiwisolver>=1.3.1 in /usr/local/lib/python3.11/dist-packages (from matplotlib) (1.4.8)\n",
            "Requirement already satisfied: packaging>=20.0 in /usr/local/lib/python3.11/dist-packages (from matplotlib) (24.2)\n",
            "Requirement already satisfied: pillow>=8 in /usr/local/lib/python3.11/dist-packages (from matplotlib) (11.1.0)\n",
            "Requirement already satisfied: pyparsing>=2.3.1 in /usr/local/lib/python3.11/dist-packages (from matplotlib) (3.2.1)\n",
            "Requirement already satisfied: python-dateutil>=2.7 in /usr/local/lib/python3.11/dist-packages (from matplotlib) (2.8.2)\n",
            "Requirement already satisfied: six>=1.5 in /usr/local/lib/python3.11/dist-packages (from python-dateutil>=2.7->matplotlib) (1.17.0)\n"
          ]
        }
      ]
    },
    {
      "cell_type": "code",
      "source": [
        "import numpy as np\n",
        "import matplotlib.pyplot as plt\n",
        "from sklearn.linear_model import LinearRegression\n",
        "\n",
        "# 1️⃣ Prepare the Data (House Size vs Price)\n",
        "X = np.array([1000, 1500, 2000, 2500, 3000]).reshape(-1, 1)  # Feature (House size)\n",
        "y = np.array([150000, 200000, 250000, 300000, 350000])       # Target (Price)\n",
        "\n",
        "# 2️⃣ Create and Train the Model\n",
        "model = LinearRegression()\n",
        "model.fit(X, y)\n",
        "\n",
        "# 3️⃣ Make Predictions\n",
        "size = np.array([[2200]])  # Predict for a house of 2200 sqft\n",
        "predicted_price = model.predict(size)\n",
        "print(f\"Predicted Price for 2200 sqft house: ${predicted_price[0]:.2f}\")\n",
        "\n",
        "# 4️⃣ Plot the Regression Line\n",
        "plt.scatter(X, y, color='blue', label=\"Actual Data\")  # Scatter plot of data\n",
        "plt.plot(X, model.predict(X), color='red', label=\"Regression Line\")  # Best fit line\n",
        "plt.xlabel('Size (sqft)')\n",
        "plt.ylabel('Price ($)')\n",
        "plt.title('Linear Regression Example')\n",
        "plt.legend()\n",
        "plt.show()\n"
      ],
      "metadata": {
        "colab": {
          "base_uri": "https://localhost:8080/",
          "height": 489
        },
        "id": "ia1VakSKk0Au",
        "outputId": "8f500173-cfcd-4e57-f3e4-1befc2ed6925"
      },
      "execution_count": 2,
      "outputs": [
        {
          "output_type": "stream",
          "name": "stdout",
          "text": [
            "Predicted Price for 2200 sqft house: $270000.00\n"
          ]
        },
        {
          "output_type": "display_data",
          "data": {
            "text/plain": [
              "<Figure size 640x480 with 1 Axes>"
            ],
            "image/png": "[encoded data removed]"
          },
          "metadata": {}
        }
      ]
    },
    {
      "cell_type": "markdown",
      "source": [
        "**Evaluating the Model**\n",
        "You can check how well the model fits the data using R² Score:\n",
        "\n",
        "**R² closer to 1** → Good fit\n",
        "\n",
        "**R² closer to 0** → Poor fit"
      ],
      "metadata": {
        "id": "OvXjCq25mAi6"
      }
    },
    {
      "cell_type": "code",
      "source": [
        "r_squared = model.score(X, y)\n",
        "print(f\"R² Score: {r_squared:.2f}\")"
      ],
      "metadata": {
        "colab": {
          "base_uri": "https://localhost:8080/"
        },
        "id": "PFsWMQmhlSr0",
        "outputId": "9a589ef8-3196-4eaa-bda6-57a5440dd475"
      },
      "execution_count": 3,
      "outputs": [
        {
          "output_type": "stream",
          "name": "stdout",
          "text": [
            "R² Score: 1.00\n"
          ]
        }
      ]
    },
    {
      "cell_type": "markdown",
      "source": [
        " Summary\n",
        "**bold text**\n",
        "✅ Linear Regression is used for predicting continuous values.\n",
        "\n",
        "✅ It follows the equation Y = mX + c.\n",
        "\n",
        "✅ It minimizes Mean Squared Error (MSE) to find the best-fit line.\n",
        "\n",
        "✅ It is easy to implement using Scikit-learn.\n",
        "\n"
      ],
      "metadata": {
        "id": "I4MfQboqmmFa"
      }
    },
    {
      "cell_type": "markdown",
      "source": [
        "**🔹 Question 1: Predict Employee Salary**\n"
      ],
      "metadata": {
        "id": "ZGfkEJ1Lm4bo"
      }
    },
    {
      "cell_type": "code",
      "source": [
        "import numpy as np\n",
        "import matplotlib.pyplot as plt\n",
        "from sklearn.linear_model import LinearRegression\n",
        "\n",
        "experiance = np.array([1,3,5,7,10]).reshape(-1, 1)\n",
        "salary = np.array([30000, 50000,70000,90000,120000])\n",
        "\n",
        "model = LinearRegression()\n",
        "model.fit(experiance,salary)\n",
        "y_o_ex =np.array([[6]])\n",
        "\n",
        "predicted_salary = model.predict(y_o_ex)\n",
        "print(f'pridicted salary for {y_o_ex[0][0]} years of experiance is {predicted_salary[0]}')\n",
        "\n",
        "plt.scatter(experiance, salary , color='green' ,label='Actual Data')\n",
        "plt.plot(experiance , model.predict(experiance) ,color='yellow', label=\"Regression Line\")\n",
        "plt.xlabel = 'Years of Experience '\n",
        "plt.ylabel ='Salary ($)'\n",
        "plt.title = 'Predict Employee Salary'\n",
        "plt.legend()\n",
        "plt.show()"
      ],
      "metadata": {
        "colab": {
          "base_uri": "https://localhost:8080/",
          "height": 447
        },
        "id": "9OlUnPS_m8Uk",
        "outputId": "24a119e9-d9fd-49ea-a5fb-2ff03976e678"
      },
      "execution_count": 12,
      "outputs": [
        {
          "output_type": "stream",
          "name": "stdout",
          "text": [
            "pridicted salary for 6 years of experiance is 80000.0\n"
          ]
        },
        {
          "output_type": "display_data",
          "data": {
            "text/plain": [
              "<Figure size 640x480 with 1 Axes>"
            ],
            "image/png": "[encoded data removed]"
          },
          "metadata": {}
        }
      ]
    },
    {
      "cell_type": "markdown",
      "source": [
        "**Multivariable Linear Regression**\n",
        "  \n",
        "A student’s final exam score is based on hours studied and sleep hours. Here’s the data:\n",
        "\n"
      ],
      "metadata": {
        "id": "_JGLq9t8rIQ8"
      }
    },
    {
      "cell_type": "code",
      "source": [
        "import numpy as np\n",
        "from sklearn.linear_model import LinearRegression\n",
        "import matplotlib.pyplot as plt\n",
        "\n",
        "hours_studied_and_sleep =  np.array([[2, 6], [4, 7], [5, 8], [7, 6], [8, 7] ])\n",
        "score = np.array([50,65,75,80,85])\n",
        "\n",
        "model = LinearRegression()\n",
        "model.fit(hours_studied_and_sleep ,score)\n",
        "\n",
        "sleep_study_hours = np.array([[8,7]])\n",
        "\n",
        "predicted_score= model.predict(sleep_study_hours)\n",
        "print(f\"Predicted Score for: {predicted_score[0]:.2f}\")\n"
      ],
      "metadata": {
        "colab": {
          "base_uri": "https://localhost:8080/"
        },
        "id": "7rJJyXEzm2Xv",
        "outputId": "4d4171ec-33de-4115-afc4-78211a840791"
      },
      "execution_count": 13,
      "outputs": [
        {
          "output_type": "stream",
          "name": "stdout",
          "text": [
            "Predicted Score for: 87.02\n"
          ]
        }
      ]
    },
    {
      "cell_type": "code",
      "source": [],
      "metadata": {
        "id": "F5YqS4X_uRhd"
      },
      "execution_count": null,
      "outputs": []
    },
    {
      "cell_type": "code",
      "source": [],
      "metadata": {
        "id": "3jDs5v4mmW3D"
      },
      "execution_count": null,
      "outputs": []
    },
    {
      "cell_type": "code",
      "source": [],
      "metadata": {
        "id": "pDcXTiOKrUO4"
      },
      "execution_count": null,
      "outputs": []
    }
  ]
}